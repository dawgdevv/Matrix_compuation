{
 "cells": [
  {
   "cell_type": "code",
   "execution_count": 1,
   "metadata": {},
   "outputs": [
    {
     "name": "stdout",
     "output_type": "stream",
     "text": [
      "Eigenvalues:\n",
      " [4.61803399 2.38196601]\n",
      "Singular values:\n",
      " [4.61803399 2.38196601]\n",
      "U matrix:\n",
      " [[-0.85065081 -0.52573111]\n",
      " [-0.52573111  0.85065081]]\n",
      "V transpose matrix:\n",
      " [[-0.85065081 -0.52573111]\n",
      " [-0.52573111  0.85065081]]\n"
     ]
    }
   ],
   "source": [
    "import numpy as np\n",
    "\n",
    "A = [[4,1], # The matrix is symmetric due to which the eigen values and singular values are same\n",
    "     [1,3]]\n",
    "eigenvalues, _ = np.linalg.eig(A)\n",
    "print(\"Eigenvalues:\\n\", eigenvalues)\n",
    "singular_values = np.linalg.svd(A, compute_uv=False)\n",
    "print(\"Singular values:\\n\", singular_values)\n",
    "U, _, Vt = np.linalg.svd(A)\n",
    "print(\"U matrix:\\n\", U)\n",
    "print(\"V transpose matrix:\\n\", Vt)"
   ]
  },
  {
   "cell_type": "code",
   "execution_count": 9,
   "metadata": {},
   "outputs": [
    {
     "name": "stdout",
     "output_type": "stream",
     "text": [
      "U matrix for B:\n",
      " [[-0.33809817  0.84795222  0.40824829]\n",
      " [-0.55064932  0.17354729 -0.81649658]\n",
      " [-0.76320047 -0.50085764  0.40824829]]\n",
      "Sigma values for B:\n",
      " [6.54675564 0.37415323]\n",
      "V transpose matrix for B:\n",
      " [[-0.56959484 -0.82192562]\n",
      " [-0.82192562  0.56959484]]\n"
     ]
    }
   ],
   "source": [
    "B = [[1,2],\n",
    "     [2,3],\n",
    "     [3,4]]\n",
    "U_B, sigma_B, Vt_B = np.linalg.svd(B)\n",
    "print(\"U matrix for B:\\n\", U_B)\n",
    "print(\"Sigma values for B:\\n\", sigma_B)\n",
    "print(\"V transpose matrix for B:\\n\", Vt_B)"
   ]
  },
  {
   "cell_type": "code",
   "execution_count": 10,
   "metadata": {},
   "outputs": [
    {
     "name": "stdout",
     "output_type": "stream",
     "text": [
      "New C matrix:\n",
      " [[1 3 8]\n",
      " [9 4 1]\n",
      " [9 5 1]\n",
      " [2 5 9]\n",
      " [5 2 6]]\n",
      "U matrix for C:\n",
      " [[-0.37285873 -0.49098676  0.021337   -0.61204634 -0.4948256 ]\n",
      " [-0.45522338  0.50083326  0.06464975  0.38326108 -0.62519523]\n",
      " [-0.48103309  0.5041464  -0.32559971 -0.47151119  0.43139959]\n",
      " [-0.4924687  -0.49273154 -0.46456732  0.49955517  0.22206315]\n",
      " [-0.42406342 -0.10559398  0.82068701  0.08143739  0.35897201]]\n",
      "Sigma values for C:\n",
      " [18.31237092 10.65672734  2.25637622]\n",
      "V transpose matrix for C:\n",
      " [[-0.65007538 -0.47263708 -0.5949926 ]\n",
      " [ 0.66065284  0.03530719 -0.74986081]\n",
      " [ 0.37541954 -0.8805496   0.28929669]]\n",
      "Reduced U matrix for C:\n",
      " [[-0.37285873 -0.49098676]\n",
      " [-0.45522338  0.50083326]\n",
      " [-0.48103309  0.5041464 ]\n",
      " [-0.4924687  -0.49273154]\n",
      " [-0.42406342 -0.10559398]]\n",
      "Reduced Sigma values for C:\n",
      " [[18.31237092  0.        ]\n",
      " [ 0.         10.65672734]]\n",
      "Reduced V transpose matrix for C:\n",
      " [[-0.65007538 -0.47263708 -0.5949926 ]\n",
      " [ 0.66065284  0.03530719 -0.74986081]]\n"
     ]
    }
   ],
   "source": [
    "C = np.random.randint(1, 10, (5, 3))\n",
    "print(\"New C matrix:\\n\", C)\n",
    "U_C, sigma_C, Vt_C = np.linalg.svd(C)\n",
    "print(\"U matrix for C:\\n\", U_C)\n",
    "print(\"Sigma values for C:\\n\", sigma_C)\n",
    "print(\"V transpose matrix for C:\\n\", Vt_C)\n",
    "\n",
    "# Reduced SVD\n",
    "U_C_reduced = U_C[:, :2]\n",
    "sigma_C_reduced = np.diag(sigma_C[:2])\n",
    "Vt_C_reduced = Vt_C[:2, :]\n",
    "print(\"Reduced U matrix for C:\\n\", U_C_reduced)\n",
    "print(\"Reduced Sigma values for C:\\n\", sigma_C_reduced)\n",
    "print(\"Reduced V transpose matrix for C:\\n\", Vt_C_reduced)"
   ]
  },
  {
   "cell_type": "code",
   "execution_count": 12,
   "metadata": {},
   "outputs": [
    {
     "name": "stdout",
     "output_type": "stream",
     "text": [
      "Rank 2 approximation of the matrix:\n",
      " [[ 3.09471053  3.62876749 -0.80826106 -0.07215697  2.35241056]\n",
      " [-0.13141818 -0.56199877  5.48725285  5.23982404  0.94979324]\n",
      " [ 2.24705556  2.46111173  1.73545987  2.17787775  2.15512443]\n",
      " [ 3.51774329  4.06498651 -0.11909978  0.68592607  2.8279064 ]\n",
      " [ 1.3177225   1.36362727  2.0821241   2.29937123  1.46871156]]\n"
     ]
    }
   ],
   "source": [
    "# Given singular values\n",
    "singular_values = np.array([10, 8, 0.1, 0.05, 0.001])\n",
    "\n",
    "# Create a random 5x5 matrix\n",
    "D = np.random.rand(5, 5)\n",
    "\n",
    "# Perform SVD\n",
    "U_D, sigma_D, Vt_D = np.linalg.svd(D)\n",
    "\n",
    "# Keep only the top 2 singular values and corresponding vectors\n",
    "U_D_reduced = U_D[:, :2]\n",
    "sigma_D_reduced = np.diag(singular_values[:2])\n",
    "Vt_D_reduced = Vt_D[:2, :]\n",
    "\n",
    "# Rank 2 approximation\n",
    "D_rank_2 = U_D_reduced @ sigma_D_reduced @ Vt_D_reduced\n",
    "\n",
    "print(\"Rank 2 approximation of the matrix:\\n\", D_rank_2)"
   ]
  }
 ],
 "metadata": {
  "kernelspec": {
   "display_name": "Python 3",
   "language": "python",
   "name": "python3"
  },
  "language_info": {
   "codemirror_mode": {
    "name": "ipython",
    "version": 3
   },
   "file_extension": ".py",
   "mimetype": "text/x-python",
   "name": "python",
   "nbconvert_exporter": "python",
   "pygments_lexer": "ipython3",
   "version": "3.12.1"
  }
 },
 "nbformat": 4,
 "nbformat_minor": 2
}
